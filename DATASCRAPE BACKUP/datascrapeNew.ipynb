{
 "cells": [
  {
   "cell_type": "code",
   "execution_count": 1,
   "metadata": {},
   "outputs": [],
   "source": [
    "import requests\n",
    "from bs4 import BeautifulSoup\n",
    "import csv\n",
    "import time\n",
    "import random\n",
    "import re\n",
    "from IPython.display import clear_output\n",
    "import concurrent.futures\n",
    "from fake_useragent import UserAgent\n",
    "import cloudscraper\n",
    "import subprocess"
   ]
  },
  {
   "cell_type": "code",
   "execution_count": 2,
   "metadata": {},
   "outputs": [],
   "source": [
    "soloPageUrl = 'https://www.yellow-pages.ph'"
   ]
  },
  {
   "cell_type": "code",
   "execution_count": 3,
   "metadata": {},
   "outputs": [],
   "source": [
    "def add_spaces_after_punctuation(text):\n",
    "    return re.sub(r'([,.;:!?)])([^\\s])', r'\\1 \\2', text)"
   ]
  },
  {
   "cell_type": "code",
   "execution_count": 4,
   "metadata": {},
   "outputs": [
    {
     "name": "stdout",
     "output_type": "stream",
     "text": [
      "Blocked IP and the final step was 31. Refresh IP, change start value, and try again.\n"
     ]
    }
   ],
   "source": [
    "def scrape_business(business):\n",
    "    \n",
    "    reviews = []\n",
    "    \n",
    "    # Access Page\n",
    "    about = business.div.h2.a['href']\n",
    "\n",
    "    # Page source\n",
    "    pageUrl = soloPageUrl + about\n",
    "    headers = {'User-Agent': UserAgent().random}\n",
    "    scraper = cloudscraper.create_scraper() # create a Cloudscraper instance\n",
    "    aboutUrl = scraper.get(pageUrl, headers=headers).text # use the scraper to get the page source\n",
    "    soupPage = BeautifulSoup(aboutUrl, 'lxml')\n",
    "    singlePage = soupPage.find_all('div', class_='yp-container')\n",
    "    \n",
    "    for page in singlePage:\n",
    "        time.sleep(random.uniform(1, 3)) # add random delay between requests\n",
    "        review_text = page.find('div', class_='yp-see-morex text-break')\n",
    "        if review_text:\n",
    "            reviews.append(review_text.text.replace('\\n', ''))\n",
    "        else:\n",
    "            reviews.append('')\n",
    "\n",
    "    time.sleep(random.uniform(1, 3))\n",
    "    # Search for name\n",
    "    name = business.find('h2', class_='search-tradename').text.replace('\\n', '')\n",
    "\n",
    "    time.sleep(random.uniform(1, 3))\n",
    "    # Search for address\n",
    "    address = business.find('span', class_='ellipsis').text\n",
    "\n",
    "    time.sleep(random.uniform(1, 3))\n",
    "    # Search for mobile number\n",
    "    mobile = business.find('a', class_='btn btn-yp-default mr-2 biz-btn-call yp-click')\n",
    "    mobileNum = mobile['data-phone'] if mobile else ''\n",
    "\n",
    "    time.sleep(random.uniform(1, 3))\n",
    "    # Search for average rating\n",
    "    star_average = page.find('div', class_='rating-num')\n",
    "    if star_average:\n",
    "        star_average = star_average.text.replace('\\n', '')\n",
    "    else:\n",
    "        star_average = ''\n",
    "\n",
    "    if reviews:\n",
    "        writer.writerow([name, address, mobileNum, star_average, reviews.pop(0)])\n",
    "    else:\n",
    "        writer.writerow([name, address, mobileNum, star_average, ''])\n",
    "\n",
    "steps = 90\n",
    "start_page = input(\"Enter start value: \")\n",
    "start_page = int(start_page)\n",
    "headers = {'User-Agent': UserAgent().random}\n",
    "\n",
    "with open(\"broker.csv\", \"a\", newline=\"\") as file:\n",
    "    writer = csv.writer(file)\n",
    "\n",
    "    for i in range(start_page, steps+1):\n",
    "        htmlText = f'https://www.yellow-pages.ph/category/residential-properties/page-{i}'\n",
    "        scraper = cloudscraper.create_scraper()\n",
    "        try:\n",
    "            getHtml = scraper.get(htmlText, headers=headers).text\n",
    "            soup = BeautifulSoup(getHtml, 'lxml')\n",
    "            scraped = soup.find_all('div', class_='search-listing')\n",
    "            if not scraped:\n",
    "                raise Exception(\"Refresh IP, change start value, and try again.\")\n",
    "        except Exception as e:\n",
    "            clear_output()\n",
    "            print(f\"Blocked IP and the final step was {i}. {e}\")\n",
    "            break\n",
    "\n",
    "        print(\" ========================================================================\")\n",
    "        print(\" URL: \", htmlText)\n",
    "        print(f\" Step {i} scraping...\")\n",
    "\n",
    "        # get list of businesses for this page\n",
    "        businesses = soup.find_all('div', class_='search-listing')\n",
    "\n",
    "        with concurrent.futures.ThreadPoolExecutor() as executor:\n",
    "            results = [executor.submit(scrape_business, business) for business in businesses]\n",
    "            time.sleep(random.uniform(1, 3)) # add random delay between requests\n",
    "\n",
    "        print(f\" Step {i} finished successfully.\")\n",
    "        print(\" Displaying results...\")\n",
    "        print(\" ========================================================================\")\n",
    "        print(\" Page\", i, \"& step\", steps)\n",
    "        print(\" Names of businesses: \", \"\\n\")\n",
    "        for business in businesses:\n",
    "            name = business.find('h2', class_='search-tradename').text.replace('\\n', '')\n",
    "            print(\" \", name)\n",
    "        print(\" ========================================================================\")\n",
    "        time.sleep(8)\n",
    "        clear_output()\n"
   ]
  }
 ],
 "metadata": {
  "kernelspec": {
   "display_name": "datascraping",
   "language": "python",
   "name": "python3"
  },
  "language_info": {
   "codemirror_mode": {
    "name": "ipython",
    "version": 3
   },
   "file_extension": ".py",
   "mimetype": "text/x-python",
   "name": "python",
   "nbconvert_exporter": "python",
   "pygments_lexer": "ipython3",
   "version": "3.10.11"
  },
  "orig_nbformat": 4,
  "vscode": {
   "interpreter": {
    "hash": "3ac2b69d10c2320dd5c4f4d37e3812eaabdef1dc96bb5ad98affb69b86075552"
   }
  }
 },
 "nbformat": 4,
 "nbformat_minor": 2
}
